{
  "metadata": {
    "kernelspec": {
      "language": "python",
      "display_name": "Python 3",
      "name": "python3"
    },
    "language_info": {
      "name": "python",
      "version": "3.11.11",
      "mimetype": "text/x-python",
      "codemirror_mode": {
        "name": "ipython",
        "version": 3
      },
      "pygments_lexer": "ipython3",
      "nbconvert_exporter": "python",
      "file_extension": ".py"
    },
    "kaggle": {
      "accelerator": "none",
      "dataSources": [
        {
          "sourceId": 97177,
          "databundleVersionId": 11563676,
          "sourceType": "competition"
        }
      ],
      "dockerImageVersionId": 31040,
      "isInternetEnabled": true,
      "language": "python",
      "sourceType": "notebook",
      "isGpuEnabled": false
    },
    "colab": {
      "name": "03 - modelo con preprocesado Random Forest",
      "provenance": [],
      "include_colab_link": true
    }
  },
  "nbformat_minor": 0,
  "nbformat": 4,
  "cells": [
    {
      "cell_type": "markdown",
      "metadata": {
        "id": "view-in-github",
        "colab_type": "text"
      },
      "source": [
        "<a href=\"https://colab.research.google.com/github/JhonUsuga/ModelosEntregaFinal/blob/main/03%20-%20modelo%20con%20preprocesado%20Random%20Forest.ipynb\" target=\"_parent\"><img src=\"https://colab.research.google.com/assets/colab-badge.svg\" alt=\"Open In Colab\"/></a>"
      ]
    },
    {
      "source": [
        "# IMPORTANT: SOME KAGGLE DATA SOURCES ARE PRIVATE\n",
        "# RUN THIS CELL IN ORDER TO IMPORT YOUR KAGGLE DATA SOURCES.\n",
        "import kagglehub\n",
        "kagglehub.login()\n"
      ],
      "metadata": {
        "id": "Qgr73hUwX83w"
      },
      "cell_type": "code",
      "outputs": [],
      "execution_count": null
    },
    {
      "source": [
        "# IMPORTANT: RUN THIS CELL IN ORDER TO IMPORT YOUR KAGGLE DATA SOURCES,\n",
        "# THEN FEEL FREE TO DELETE THIS CELL.\n",
        "# NOTE: THIS NOTEBOOK ENVIRONMENT DIFFERS FROM KAGGLE'S PYTHON\n",
        "# ENVIRONMENT SO THERE MAY BE MISSING LIBRARIES USED BY YOUR\n",
        "# NOTEBOOK.\n",
        "\n",
        "udea_ai_4_eng_20251_pruebas_saber_pro_colombia_path = kagglehub.competition_download('udea-ai-4-eng-20251-pruebas-saber-pro-colombia')\n",
        "\n",
        "print('Data source import complete.')\n"
      ],
      "metadata": {
        "id": "E99Kwg7-X83x"
      },
      "cell_type": "code",
      "outputs": [],
      "execution_count": null
    },
    {
      "cell_type": "code",
      "source": [
        "# This Python 3 environment comes with many helpful analytics libraries installed\n",
        "# It is defined by the kaggle/python Docker image: https://github.com/kaggle/docker-python\n",
        "# For example, here's several helpful packages to load\n",
        "\n",
        "import numpy as np # linear algebra\n",
        "import pandas as pd # data processing, CSV file I/O (e.g. pd.read_csv)\n",
        "\n",
        "# Input data files are available in the read-only \"../input/\" directory\n",
        "# For example, running this (by clicking run or pressing Shift+Enter) will list all files under the input directory\n",
        "\n",
        "import os\n",
        "for dirname, _, filenames in os.walk('/kaggle/input'):\n",
        "    for filename in filenames:\n",
        "        print(os.path.join(dirname, filename))\n",
        "\n",
        "# You can write up to 20GB to the current directory (/kaggle/working/) that gets preserved as output when you create a version using \"Save & Run All\"\n",
        "# You can also write temporary files to /kaggle/temp/, but they won't be saved outside of the current session"
      ],
      "metadata": {
        "_uuid": "8f2839f25d086af736a60e9eeb907d3b93b6e0e5",
        "_cell_guid": "b1076dfc-b9ad-4769-8c92-a6c4dae69d19",
        "trusted": true,
        "execution": {
          "iopub.status.busy": "2025-06-16T04:56:16.129262Z",
          "iopub.execute_input": "2025-06-16T04:56:16.129593Z",
          "iopub.status.idle": "2025-06-16T04:56:16.13877Z",
          "shell.execute_reply.started": "2025-06-16T04:56:16.129566Z",
          "shell.execute_reply": "2025-06-16T04:56:16.137979Z"
        },
        "id": "AhzV_iOsX83y",
        "outputId": "ef9953b4-0698-4df0-bf7e-238c9a980573"
      },
      "outputs": [
        {
          "name": "stdout",
          "text": "/kaggle/input/udea-ai-4-eng-20251-pruebas-saber-pro-colombia/submission_example.csv\n/kaggle/input/udea-ai-4-eng-20251-pruebas-saber-pro-colombia/train.csv\n/kaggle/input/udea-ai-4-eng-20251-pruebas-saber-pro-colombia/test.csv\n",
          "output_type": "stream"
        }
      ],
      "execution_count": null
    },
    {
      "cell_type": "code",
      "source": [
        "import pandas as pd\n",
        "import numpy as np\n",
        "from sklearn.model_selection import train_test_split\n",
        "from sklearn.preprocessing import MinMaxScaler\n",
        "from sklearn.ensemble import RandomForestClassifier\n",
        "from sklearn.metrics import accuracy_score"
      ],
      "metadata": {
        "trusted": true,
        "execution": {
          "iopub.status.busy": "2025-06-16T04:56:23.208869Z",
          "iopub.execute_input": "2025-06-16T04:56:23.209429Z",
          "iopub.status.idle": "2025-06-16T04:56:23.21355Z",
          "shell.execute_reply.started": "2025-06-16T04:56:23.209402Z",
          "shell.execute_reply": "2025-06-16T04:56:23.212572Z"
        },
        "id": "DhePivfIX83z"
      },
      "outputs": [],
      "execution_count": null
    },
    {
      "cell_type": "code",
      "source": [
        "train = pd.read_csv(\"/kaggle/input/udea-ai-4-eng-20251-pruebas-saber-pro-colombia/train.csv\")\n",
        "test = pd.read_csv(\"/kaggle/input/udea-ai-4-eng-20251-pruebas-saber-pro-colombia/test.csv\")"
      ],
      "metadata": {
        "trusted": true,
        "execution": {
          "iopub.status.busy": "2025-06-16T04:56:26.062324Z",
          "iopub.execute_input": "2025-06-16T04:56:26.063017Z",
          "iopub.status.idle": "2025-06-16T04:56:31.598488Z",
          "shell.execute_reply.started": "2025-06-16T04:56:26.062989Z",
          "shell.execute_reply": "2025-06-16T04:56:31.597842Z"
        },
        "id": "YnSKssVhX83z"
      },
      "outputs": [],
      "execution_count": null
    },
    {
      "cell_type": "code",
      "source": [
        "columnas_categoricas_con_nulos = [\n",
        "    'ESTU_VALORMATRICULAUNIVERSIDAD',\n",
        "    'ESTU_HORASSEMANATRABAJA',\n",
        "    'FAMI_ESTRATOVIVIENDA',\n",
        "    'FAMI_TIENEINTERNET',\n",
        "    'FAMI_EDUCACIONPADRE',\n",
        "    'FAMI_TIENELAVADORA',\n",
        "    'FAMI_TIENEAUTOMOVIL',\n",
        "    'ESTU_PAGOMATRICULAPROPIO',\n",
        "    'FAMI_TIENECOMPUTADOR',\n",
        "    'FAMI_TIENEINTERNET.1',\n",
        "    'FAMI_EDUCACIONMADRE'\n",
        "]\n",
        "\n",
        "# Imputar con el modo\n",
        "for col in columnas_categoricas_con_nulos:\n",
        "    train[col].fillna(train[col].mode()[0], inplace=True)\n",
        "    test[col].fillna(train[col].mode()[0], inplace=True)  # usar modo del train\n",
        "\n",
        "columnas_categoricas = [\n",
        "    'ESTU_PRGM_ACADEMICO',\n",
        "    'ESTU_PRGM_DEPARTAMENTO',\n",
        "    'ESTU_VALORMATRICULAUNIVERSIDAD',\n",
        "    'ESTU_HORASSEMANATRABAJA',\n",
        "    'FAMI_ESTRATOVIVIENDA',\n",
        "    'FAMI_TIENEINTERNET',\n",
        "    'FAMI_EDUCACIONPADRE',\n",
        "    'FAMI_TIENELAVADORA',\n",
        "    'FAMI_TIENEAUTOMOVIL',\n",
        "    'ESTU_PRIVADO_LIBERTAD',\n",
        "    'ESTU_PAGOMATRICULAPROPIO',\n",
        "    'FAMI_TIENECOMPUTADOR',\n",
        "    'FAMI_TIENEINTERNET.1',\n",
        "    'FAMI_EDUCACIONMADRE'\n",
        "]\n",
        "\n",
        "# One-hot encoding\n",
        "train = pd.get_dummies(train, columns=columnas_categoricas, drop_first=True)\n",
        "test = pd.get_dummies(test, columns=columnas_categoricas, drop_first=True)\n",
        "\n",
        "# Alinear columnas entre train y test\n",
        "X = train.drop(columns=[\"RENDIMIENTO_GLOBAL\", \"ID\"])\n",
        "y = train[\"RENDIMIENTO_GLOBAL\"].map({'bajo': 0, 'medio-bajo': 1, 'medio-alto': 2, 'alto': 3})\n",
        "test_ids = test[\"ID\"]\n",
        "\n",
        "test = test.reindex(columns=X.columns, fill_value=0)\n",
        "\n",
        "# Normalización de coeficientes\n",
        "columnas_coef = ['coef_1', 'coef_2', 'coef_3', 'coef_4']\n",
        "scaler = MinMaxScaler()\n",
        "X[columnas_coef] = scaler.fit_transform(X[columnas_coef])\n",
        "test[columnas_coef] = scaler.transform(test[columnas_coef])"
      ],
      "metadata": {
        "trusted": true,
        "execution": {
          "iopub.status.busy": "2025-06-16T04:56:47.610485Z",
          "iopub.execute_input": "2025-06-16T04:56:47.610872Z",
          "iopub.status.idle": "2025-06-16T04:56:52.354002Z",
          "shell.execute_reply.started": "2025-06-16T04:56:47.610844Z",
          "shell.execute_reply": "2025-06-16T04:56:52.35323Z"
        },
        "id": "W86gFpuRX83z",
        "outputId": "03b76927-8ca2-411b-b4a8-e0bb7338027a"
      },
      "outputs": [
        {
          "name": "stderr",
          "text": "/tmp/ipykernel_35/349594100.py:17: FutureWarning: A value is trying to be set on a copy of a DataFrame or Series through chained assignment using an inplace method.\nThe behavior will change in pandas 3.0. This inplace method will never work because the intermediate object on which we are setting values always behaves as a copy.\n\nFor example, when doing 'df[col].method(value, inplace=True)', try using 'df.method({col: value}, inplace=True)' or df[col] = df[col].method(value) instead, to perform the operation inplace on the original object.\n\n\n  train[col].fillna(train[col].mode()[0], inplace=True)\n/tmp/ipykernel_35/349594100.py:18: FutureWarning: A value is trying to be set on a copy of a DataFrame or Series through chained assignment using an inplace method.\nThe behavior will change in pandas 3.0. This inplace method will never work because the intermediate object on which we are setting values always behaves as a copy.\n\nFor example, when doing 'df[col].method(value, inplace=True)', try using 'df.method({col: value}, inplace=True)' or df[col] = df[col].method(value) instead, to perform the operation inplace on the original object.\n\n\n  test[col].fillna(train[col].mode()[0], inplace=True)  # usar modo del train\n",
          "output_type": "stream"
        }
      ],
      "execution_count": null
    },
    {
      "cell_type": "code",
      "source": [
        "X_train, X_val, y_train, y_val = train_test_split(X, y, test_size=0.2, stratify=y, random_state=42)\n",
        "\n",
        "modelo = RandomForestClassifier(n_estimators=100, n_jobs=-1, random_state=42)\n",
        "modelo.fit(X_train, y_train)\n",
        "\n",
        "y_pred = modelo.predict(X_val)\n",
        "print(\"Accuracy en validación:\", accuracy_score(y_val, y_pred))"
      ],
      "metadata": {
        "trusted": true,
        "execution": {
          "iopub.status.busy": "2025-06-16T04:58:39.290102Z",
          "iopub.execute_input": "2025-06-16T04:58:39.290389Z",
          "iopub.status.idle": "2025-06-16T05:03:43.348054Z",
          "shell.execute_reply.started": "2025-06-16T04:58:39.29037Z",
          "shell.execute_reply": "2025-06-16T05:03:43.3468Z"
        },
        "id": "TpjaYNYFX83z",
        "outputId": "4531b8f4-b5e5-445b-b449-458565544e29"
      },
      "outputs": [
        {
          "name": "stdout",
          "text": "Accuracy en validación: 0.40650541516245486\n",
          "output_type": "stream"
        }
      ],
      "execution_count": null
    },
    {
      "cell_type": "code",
      "source": [
        "pred = modelo.predict(test)\n",
        "\n",
        "# Volver a etiquetas\n",
        "map_inv = {0: 'bajo', 1: 'medio-bajo', 2: 'medio-alto', 3: 'alto'}\n",
        "pred_etiquetas = [map_inv[i] for i in pred]\n",
        "\n",
        "# Guardar submission\n",
        "submission = pd.DataFrame({\n",
        "    \"ID\": test_ids,\n",
        "    \"RENDIMIENTO_GLOBAL\": pred_etiquetas\n",
        "})\n",
        "submission.to_csv(\"/kaggle/working/submission.csv\", index=False)\n",
        "print(\"submission.csv generado\")"
      ],
      "metadata": {
        "trusted": true,
        "execution": {
          "iopub.status.busy": "2025-06-16T05:05:07.90852Z",
          "iopub.execute_input": "2025-06-16T05:05:07.90963Z",
          "iopub.status.idle": "2025-06-16T05:05:21.328157Z",
          "shell.execute_reply.started": "2025-06-16T05:05:07.909589Z",
          "shell.execute_reply": "2025-06-16T05:05:21.32739Z"
        },
        "id": "-hXYuz-OX830",
        "outputId": "fd48e8aa-9f20-45d8-9961-2f882bc0b9d0"
      },
      "outputs": [
        {
          "name": "stdout",
          "text": "submission.csv generado\n",
          "output_type": "stream"
        }
      ],
      "execution_count": null
    }
  ]
}